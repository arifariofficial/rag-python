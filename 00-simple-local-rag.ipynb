{
 "cells": [
  {
   "cell_type": "code",
   "execution_count": 9,
   "id": "15c842f6-2ad4-4e48-8d6b-40239bf6527a",
   "metadata": {},
   "outputs": [
    {
     "name": "stdout",
     "output_type": "stream",
     "text": [
      "[INFO] File doesn't exist, downloading...\n"
     ]
    },
    {
     "name": "stderr",
     "output_type": "stream",
     "text": [
      "Downloading human-nutrition-text.pdf: 100%|██████████| 25.6M/25.6M [00:25<00:00, 1.03MB/s]"
     ]
    },
    {
     "name": "stdout",
     "output_type": "stream",
     "text": [
      "[INFO] Downloaded human-nutrition-text.pdf successfully.\n"
     ]
    },
    {
     "name": "stderr",
     "output_type": "stream",
     "text": [
      "\n"
     ]
    }
   ],
   "source": [
    "import os\n",
    "import requests\n",
    "from tqdm import tqdm\n",
    "\n",
    "# Get PDF document path\n",
    "pdf_path = \"human-nutrition-text.pdf\"\n",
    "\n",
    "# Download the PDF document\n",
    "if not os.path.exists(pdf_path):\n",
    "    print(\"[INFO] File doesn't exist, downloading...\")\n",
    "    \n",
    "    # Enter the url of the PDF document\n",
    "    url = \"https://pressbooks.oer.hawaii.edu/humannutrition2/open/download?type=pdf\"\n",
    "\n",
    "    # The local filename to save the downloaded PDF\n",
    "    file_name = pdf_path\n",
    "    \n",
    "    # Send a GET request to the URL\n",
    "    response = requests.get(url, stream=True)\n",
    "    \n",
    "    # Check if the request was successful\n",
    "    if response.status_code == 200:\n",
    "        # Get the total file size from the response headers\n",
    "        total_size = int(response.headers.get(\"content-length\", 0))\n",
    "        \n",
    "        # Open the file and save it\n",
    "        with open(pdf_path, \"wb\") as file, tqdm(\n",
    "            desc=f\"Downloading {pdf_path}\",\n",
    "            total=total_size,\n",
    "            unit=\"B\",\n",
    "            unit_scale=True,\n",
    "            unit_divisor=1024,\n",
    "        ) as progress_bar:\n",
    "            # Read the file in chunks\n",
    "            for chunk in response.iter_content(chunk_size=1024):\n",
    "                file.write(chunk)\n",
    "                progress_bar.update(len(chunk))\n",
    "        \n",
    "        print(f\"[INFO] Downloaded {file_name} successfully.\")\n",
    "    else:\n",
    "        print(f\"[ERROR] Failed to download {file_name}. Status code: {response.status_code}\")\n",
    "else:\n",
    "    print(f\"[INFO] File already exists: {pdf_path}\")"
   ]
  }
 ],
 "metadata": {
  "kernelspec": {
   "display_name": ".venv",
   "language": "python",
   "name": "python3"
  },
  "language_info": {
   "codemirror_mode": {
    "name": "ipython",
    "version": 3
   },
   "file_extension": ".py",
   "mimetype": "text/x-python",
   "name": "python",
   "nbconvert_exporter": "python",
   "pygments_lexer": "ipython3",
   "version": "3.12.1"
  }
 },
 "nbformat": 4,
 "nbformat_minor": 5
}
